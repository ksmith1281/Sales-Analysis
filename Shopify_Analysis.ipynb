{
 "cells": [
  {
   "cell_type": "markdown",
   "id": "d03f778f-8524-45ef-8c77-4374ade449ae",
   "metadata": {
    "tags": []
   },
   "source": [
    "# Import Libraries and Setup Parameters and Settings\n",
    "## Import the pandas package"
   ]
  },
  {
   "cell_type": "code",
   "execution_count": 1,
   "id": "b1ede304-826b-44ab-b153-188e8f686583",
   "metadata": {
    "tags": []
   },
   "outputs": [],
   "source": [
    "import pandas as pd"
   ]
  },
  {
   "cell_type": "markdown",
   "id": "985e73aa-dead-4bd4-b9e4-1c0ffc3fb718",
   "metadata": {
    "tags": []
   },
   "source": [
    "## Adjust Settings for optimized viewing"
   ]
  },
  {
   "cell_type": "code",
   "execution_count": 2,
   "id": "9df44572-a29b-4d9a-a834-50d5b2228f34",
   "metadata": {
    "tags": []
   },
   "outputs": [],
   "source": [
    "pd.set_option('display.max_columns', 300)\n",
    "pd.set_option('display.max_rows', 200)\n",
    "pd.set_option('display.width', 1000)"
   ]
  },
  {
   "cell_type": "markdown",
   "id": "d8253b61-3152-4b2c-ad02-616bd2c6cecc",
   "metadata": {
    "tags": []
   },
   "source": [
    "# Import Data from CSV File\n",
    "We are working with a csv file called 'orders_complete'. This file contains a concatenation of each order by items sold. As a result, this imported dataframe will have many null values as not each row represents a unique order but a specific item from a unique. Furthermore, only some customer and location information is provided, often when the orders were done online."
   ]
  },
  {
   "cell_type": "code",
   "execution_count": 3,
   "id": "0ea6ed26-3f04-4e05-9c2a-619a39a1ea74",
   "metadata": {
    "tags": []
   },
   "outputs": [],
   "source": [
    "df_raw = pd.read_csv('Jupyter Notebook Projects/Shopify/orders_complete.csv')"
   ]
  },
  {
   "cell_type": "markdown",
   "id": "97399310-4e31-4001-bdaf-51eee70f76d0",
   "metadata": {
    "tags": []
   },
   "source": [
    "# Data Clean Up\n",
    "Before we do any calculation or analysis, we much first clean our data. We will use the original dataframe initially as our location for all changes. Once we have enough to work with, we will select particular columns from this dataframe and call it our working dataframe: df_core. This method is useful as a project continue, you can simply revisit the cleaning portion of the code to adjust whatever is needed, and just add this to the working dataframe."
   ]
  },
  {
   "cell_type": "markdown",
   "id": "31e7e258-d2b8-4578-a71b-839c2607f897",
   "metadata": {
    "tags": []
   },
   "source": [
    "## 1. ID Name for Orders\n",
    "This data can be thought of as a concatenation of every order's line items. For example, if customer 1 orders a shirt and a CD, while customer 2 orders a shirt, then we will see 3 rows: Each row corresponding to each line item. Each order has a unique Order ID, initially in column called 'Name', and has the format '#1234'. Let's change the name of the column and remove the '#' from all the values:"
   ]
  },
  {
   "cell_type": "markdown",
   "id": "c62bf4c2-fc75-440c-b43b-55e6479cac05",
   "metadata": {
    "tags": []
   },
   "source": [
    "###  - rename 'Name' to 'OrderID'"
   ]
  },
  {
   "cell_type": "code",
   "execution_count": 4,
   "id": "8657f016-f778-4313-a282-5608f0878a45",
   "metadata": {
    "tags": []
   },
   "outputs": [],
   "source": [
    "df_raw = df_raw.rename(columns={'Name':'OrderID'})"
   ]
  },
  {
   "cell_type": "markdown",
   "id": "90bc20d1-ba2d-4654-a94e-9b1cdb9aabbf",
   "metadata": {
    "tags": []
   },
   "source": [
    "###  - Then remove the '#'"
   ]
  },
  {
   "cell_type": "code",
   "execution_count": 5,
   "id": "5fa4846f-7f41-4270-b99a-277e205fffa4",
   "metadata": {
    "tags": []
   },
   "outputs": [],
   "source": [
    "df_raw['OrderID'] = df_raw['OrderID'].str.replace('#','')"
   ]
  },
  {
   "cell_type": "markdown",
   "id": "21c1117d-3725-4b87-a1aa-63fe1343a68a",
   "metadata": {},
   "source": [
    "## 2. Filling NaN's for Matching OrderIDs\n",
    "We mentioned that df_raw is essentially a concatentation of multiple order's line items. For each case where multiple items are part of an order (that is associated with a match OrderID), fields such as 'Billing Name' and 'Billing Street' are only filled in for the first item. This section works to fill null values present with the proper matching details. Additionally, we reorder the columns."
   ]
  },
  {
   "cell_type": "code",
   "execution_count": 6,
   "id": "359cbb30-192a-4e5b-ab72-db324c0ac17b",
   "metadata": {
    "tags": []
   },
   "outputs": [],
   "source": [
    "df = df_raw.groupby('OrderID').fillna(method='ffill')\n",
    "df['OrderID'] = df_raw['OrderID']\n",
    "df_raw = df.iloc[:, [-1] + list(range(df.shape[1]-1))].copy()"
   ]
  },
  {
   "cell_type": "markdown",
   "id": "2a681844-a2cc-4fc6-a290-4328799534ec",
   "metadata": {},
   "source": [
    "## 3. Number of Items Per Order"
   ]
  },
  {
   "cell_type": "code",
   "execution_count": 7,
   "id": "8abcacd9-52c3-4c9b-baeb-be7d8a66e620",
   "metadata": {
    "tags": []
   },
   "outputs": [],
   "source": [
    "df_raw['Items'] = df_raw.groupby('OrderID')['Lineitem quantity'].transform('sum') # count total items per order"
   ]
  },
  {
   "cell_type": "markdown",
   "id": "3cfd4dcc-c3d1-4952-8045-4c1273b13bfd",
   "metadata": {},
   "source": [
    "## 4. Create a Year and Month Column\n",
    "There are a few entries in this dataframe that can provide date information, we will consider the 'Created at' column. We can keep it simple and just extract the respective section of the string to get the Month and Year:"
   ]
  },
  {
   "cell_type": "code",
   "execution_count": 8,
   "id": "b9f09573-c491-411e-96b9-a4bf3f378c82",
   "metadata": {
    "tags": []
   },
   "outputs": [],
   "source": [
    "df_raw['Month'] = df_raw['Created at'].str[5:7]\n",
    "df_raw['Year'] = df_raw['Created at'].str[0:4]\n",
    "df_raw['Datetime'] = df_raw['Created at'].str.slice(stop=-6)\n",
    "df_raw['UTC'] = df_raw['Created at'].str.slice(start=-6)\n",
    "df_raw['Datetime'] = pd.to_datetime(df_raw['Datetime'], format='%Y-%m-%d %H:%M:%S')\n",
    "# df_raw['Datetime'].dt.year\n",
    "df_raw['Daydt'] = df_raw['Datetime'].dt.day\n",
    "df_raw['Monthdt'] = df_raw['Datetime'].dt.month\n",
    "df_raw['Yeardt'] = df_raw['Datetime'].dt.year"
   ]
  },
  {
   "cell_type": "code",
   "execution_count": 9,
   "id": "1bafd3f3-fbad-48c7-af67-43c14112ffe0",
   "metadata": {
    "tags": []
   },
   "outputs": [
    {
     "data": {
      "text/html": [
       "<div>\n",
       "<style scoped>\n",
       "    .dataframe tbody tr th:only-of-type {\n",
       "        vertical-align: middle;\n",
       "    }\n",
       "\n",
       "    .dataframe tbody tr th {\n",
       "        vertical-align: top;\n",
       "    }\n",
       "\n",
       "    .dataframe thead th {\n",
       "        text-align: right;\n",
       "    }\n",
       "</style>\n",
       "<table border=\"1\" class=\"dataframe\">\n",
       "  <thead>\n",
       "    <tr style=\"text-align: right;\">\n",
       "      <th></th>\n",
       "      <th>OrderID</th>\n",
       "      <th>Financial Status</th>\n",
       "      <th>Created at</th>\n",
       "      <th>Datetime</th>\n",
       "    </tr>\n",
       "  </thead>\n",
       "  <tbody>\n",
       "  </tbody>\n",
       "</table>\n",
       "</div>"
      ],
      "text/plain": [
       "Empty DataFrame\n",
       "Columns: [OrderID, Financial Status, Created at, Datetime]\n",
       "Index: []"
      ]
     },
     "execution_count": 9,
     "metadata": {},
     "output_type": "execute_result"
    }
   ],
   "source": [
    "false_rows = df_raw[df_raw['Datetime'].isna()]\n",
    "false_rows[['OrderID','Financial Status','Created at','Datetime']]"
   ]
  },
  {
   "cell_type": "markdown",
   "id": "18598c83-10b4-4b73-bc48-701513af2bf4",
   "metadata": {
    "tags": []
   },
   "source": [
    "## 5. Adding Item Identifiers\n",
    "Often analysis is based upon if an item is of a certain type. This could be simply a shirt versus a CD, or perhaps part of a unit sale or event. When the item has a condition that can be searched, we can do this here and add a column indicating as such. "
   ]
  },
  {
   "cell_type": "markdown",
   "id": "4c2128cf-8636-4937-970a-0a0427d213e5",
   "metadata": {},
   "source": [
    "### 5.1 Online Orders\n",
    "All items that are part of an online orders will be given a Boolean value 'True'. If our point of sale has a non-NaN. (NOTE: This technically could have been done prior to the Filling NaN's step, as this identifier is associated with the Order, not the item.)"
   ]
  },
  {
   "cell_type": "code",
   "execution_count": 10,
   "id": "cd1ba0d8-a440-455f-97dd-3060521aadab",
   "metadata": {
    "tags": []
   },
   "outputs": [],
   "source": [
    "df_raw['Online'] = True  # Define initial 'Online' column as True\n",
    "df_raw.loc[df_raw['Employee'].notnull(), 'Online'] = False"
   ]
  },
  {
   "cell_type": "markdown",
   "id": "76555429-a986-46af-bb00-11932fae4208",
   "metadata": {},
   "source": [
    "### 5.2 Grand Ol' Productions "
   ]
  },
  {
   "cell_type": "code",
   "execution_count": 11,
   "id": "01242605-69bb-4131-86b1-9f170e4539ab",
   "metadata": {
    "tags": []
   },
   "outputs": [],
   "source": [
    "df_raw['GOPC_Item'] = False\n",
    "df_raw.loc[df_raw['Lineitem name'].str.contains('Grand', case=True), \"GOPC_Item\"] = True\n",
    "df_raw.loc[df_raw['Lineitem name'].str.contains('GOCS', case=True), \"GOPC_Item\"] = True"
   ]
  },
  {
   "cell_type": "markdown",
   "id": "6541549a-b509-4972-a368-6229589c0c9b",
   "metadata": {
    "tags": []
   },
   "source": [
    "### 5.3 Pledge Campaign"
   ]
  },
  {
   "cell_type": "code",
   "execution_count": 12,
   "id": "fc364baf-621f-4e95-b307-629847a5e725",
   "metadata": {
    "tags": []
   },
   "outputs": [],
   "source": [
    "df_raw['Pledge_Item'] = False  # Define initial 'Pledge' column as False\n",
    "df_raw.loc[df_raw['Lineitem name'].str.contains('Pledge', case=False), \"Pledge_Item\"] = True  # look if Item_Notes has 'Pledge'"
   ]
  },
  {
   "cell_type": "markdown",
   "id": "c3eb1790-7686-490a-9f46-e992b5d060d8",
   "metadata": {
    "tags": []
   },
   "source": [
    "### 5.4 Free Shipping and Handling Offer"
   ]
  },
  {
   "cell_type": "code",
   "execution_count": 13,
   "id": "c34e0f56-cced-4bcc-9815-1747236375a9",
   "metadata": {
    "tags": []
   },
   "outputs": [],
   "source": [
    "df_raw['FreeSH_Item'] = False  # Define initial 'FreeSH' column as False\n",
    "df_raw.loc[df_raw['Lineitem name'].str.contains('FREE', case=True), \"FreeSH_Item\"] = True  # look if Item_Notes contains 'FREE'\n",
    "df_raw.loc[~(df_raw['Datetime'] >= pd.to_datetime('2022-03-01')), 'FreeSH_Item'] = False\n",
    "\n",
    "# df_raw.loc[df_raw['FreeSH'] == True, \"FreeSH_Date\"] = df_raw.loc[df_raw['FreeSH'] == True, 'Created at']"
   ]
  },
  {
   "cell_type": "code",
   "execution_count": 14,
   "id": "c57db3c2-8770-4006-b010-b530d5bb6aa5",
   "metadata": {
    "tags": []
   },
   "outputs": [
    {
     "data": {
      "text/html": [
       "<div>\n",
       "<style scoped>\n",
       "    .dataframe tbody tr th:only-of-type {\n",
       "        vertical-align: middle;\n",
       "    }\n",
       "\n",
       "    .dataframe tbody tr th {\n",
       "        vertical-align: top;\n",
       "    }\n",
       "\n",
       "    .dataframe thead th {\n",
       "        text-align: right;\n",
       "    }\n",
       "</style>\n",
       "<table border=\"1\" class=\"dataframe\">\n",
       "  <thead>\n",
       "    <tr style=\"text-align: right;\">\n",
       "      <th></th>\n",
       "      <th>OrderID</th>\n",
       "      <th>Email</th>\n",
       "      <th>Financial Status</th>\n",
       "      <th>Paid at</th>\n",
       "      <th>Fulfillment Status</th>\n",
       "      <th>Fulfilled at</th>\n",
       "      <th>Accepts Marketing</th>\n",
       "      <th>Currency</th>\n",
       "      <th>Subtotal</th>\n",
       "      <th>Shipping</th>\n",
       "      <th>Taxes</th>\n",
       "      <th>Total</th>\n",
       "      <th>Discount Code</th>\n",
       "      <th>Discount Amount</th>\n",
       "      <th>Shipping Method</th>\n",
       "      <th>Created at</th>\n",
       "      <th>Lineitem quantity</th>\n",
       "      <th>Lineitem name</th>\n",
       "      <th>Lineitem price</th>\n",
       "      <th>Lineitem compare at price</th>\n",
       "      <th>Lineitem sku</th>\n",
       "      <th>Lineitem requires shipping</th>\n",
       "      <th>Lineitem taxable</th>\n",
       "      <th>Lineitem fulfillment status</th>\n",
       "      <th>Billing Name</th>\n",
       "      <th>Billing Street</th>\n",
       "      <th>Billing Address1</th>\n",
       "      <th>Billing Address2</th>\n",
       "      <th>Billing Company</th>\n",
       "      <th>Billing City</th>\n",
       "      <th>Billing Zip</th>\n",
       "      <th>Billing Province</th>\n",
       "      <th>Billing Country</th>\n",
       "      <th>Billing Phone</th>\n",
       "      <th>Shipping Name</th>\n",
       "      <th>Shipping Street</th>\n",
       "      <th>Shipping Address1</th>\n",
       "      <th>Shipping Address2</th>\n",
       "      <th>Shipping Company</th>\n",
       "      <th>Shipping City</th>\n",
       "      <th>Shipping Zip</th>\n",
       "      <th>Shipping Province</th>\n",
       "      <th>Shipping Country</th>\n",
       "      <th>Shipping Phone</th>\n",
       "      <th>Notes</th>\n",
       "      <th>Note Attributes</th>\n",
       "      <th>Cancelled at</th>\n",
       "      <th>Payment Method</th>\n",
       "      <th>Payment Reference</th>\n",
       "      <th>Refunded Amount</th>\n",
       "      <th>Vendor</th>\n",
       "      <th>Outstanding Balance</th>\n",
       "      <th>Employee</th>\n",
       "      <th>Location</th>\n",
       "      <th>Device ID</th>\n",
       "      <th>Id</th>\n",
       "      <th>Tags</th>\n",
       "      <th>Risk Level</th>\n",
       "      <th>Source</th>\n",
       "      <th>Lineitem discount</th>\n",
       "      <th>Tax 1 Name</th>\n",
       "      <th>Tax 1 Value</th>\n",
       "      <th>Tax 2 Name</th>\n",
       "      <th>Tax 2 Value</th>\n",
       "      <th>Tax 3 Name</th>\n",
       "      <th>Tax 3 Value</th>\n",
       "      <th>Tax 4 Name</th>\n",
       "      <th>Tax 4 Value</th>\n",
       "      <th>Tax 5 Name</th>\n",
       "      <th>Tax 5 Value</th>\n",
       "      <th>Phone</th>\n",
       "      <th>Receipt Number</th>\n",
       "      <th>Duties</th>\n",
       "      <th>Billing Province Name</th>\n",
       "      <th>Shipping Province Name</th>\n",
       "      <th>Payment ID</th>\n",
       "      <th>Payment Terms Name</th>\n",
       "      <th>Next Payment Due At</th>\n",
       "      <th>Payment References</th>\n",
       "      <th>Items</th>\n",
       "      <th>Month</th>\n",
       "      <th>Year</th>\n",
       "      <th>Datetime</th>\n",
       "      <th>UTC</th>\n",
       "      <th>Daydt</th>\n",
       "      <th>Monthdt</th>\n",
       "      <th>Yeardt</th>\n",
       "      <th>Online</th>\n",
       "      <th>GOPC_Item</th>\n",
       "      <th>Pledge_Item</th>\n",
       "      <th>FreeSH_Item</th>\n",
       "    </tr>\n",
       "  </thead>\n",
       "  <tbody>\n",
       "    <tr>\n",
       "      <th>3941</th>\n",
       "      <td>1503</td>\n",
       "      <td>cliffordgibbs@hotmail.co.uk</td>\n",
       "      <td>paid</td>\n",
       "      <td>2021-06-17 14:01:14 -0500</td>\n",
       "      <td>fulfilled</td>\n",
       "      <td>2021-06-28 18:03:36 -0500</td>\n",
       "      <td>no</td>\n",
       "      <td>USD</td>\n",
       "      <td>45.0</td>\n",
       "      <td>15.44</td>\n",
       "      <td>0.0</td>\n",
       "      <td>60.44</td>\n",
       "      <td>NaN</td>\n",
       "      <td>0.0</td>\n",
       "      <td>First Class Package International</td>\n",
       "      <td>2021-06-17 14:01:12 -0500</td>\n",
       "      <td>1</td>\n",
       "      <td>Things We Carry CD</td>\n",
       "      <td>15.0</td>\n",
       "      <td>NaN</td>\n",
       "      <td>NaN</td>\n",
       "      <td>True</td>\n",
       "      <td>True</td>\n",
       "      <td>fulfilled</td>\n",
       "      <td>Clifford Gibbs</td>\n",
       "      <td>Flat 27 Ashton Court, 46 Western Road</td>\n",
       "      <td>Flat 27 Ashton Court</td>\n",
       "      <td>46 Western Road</td>\n",
       "      <td>NaN</td>\n",
       "      <td>Poole</td>\n",
       "      <td>BH13 6EU</td>\n",
       "      <td>ENG</td>\n",
       "      <td>GB</td>\n",
       "      <td>+447742631070</td>\n",
       "      <td>Clifford Gibbs</td>\n",
       "      <td>Flat 27 Ashton Court, 46 Western Road</td>\n",
       "      <td>Flat 27 Ashton Court</td>\n",
       "      <td>46 Western Road</td>\n",
       "      <td>NaN</td>\n",
       "      <td>Poole</td>\n",
       "      <td>BH13 6EU</td>\n",
       "      <td>ENG</td>\n",
       "      <td>GB</td>\n",
       "      <td>+447742631070</td>\n",
       "      <td>NaN</td>\n",
       "      <td>NaN</td>\n",
       "      <td>NaN</td>\n",
       "      <td>Shopify Payments</td>\n",
       "      <td>c21344658391229.1</td>\n",
       "      <td>0.0</td>\n",
       "      <td>Blue Water Highway</td>\n",
       "      <td>0.0</td>\n",
       "      <td>NaN</td>\n",
       "      <td>NaN</td>\n",
       "      <td>NaN</td>\n",
       "      <td>3.907472e+12</td>\n",
       "      <td>NaN</td>\n",
       "      <td>Low</td>\n",
       "      <td>web</td>\n",
       "      <td>0.0</td>\n",
       "      <td>NaN</td>\n",
       "      <td>NaN</td>\n",
       "      <td>NaN</td>\n",
       "      <td>NaN</td>\n",
       "      <td>NaN</td>\n",
       "      <td>NaN</td>\n",
       "      <td>NaN</td>\n",
       "      <td>NaN</td>\n",
       "      <td>NaN</td>\n",
       "      <td>NaN</td>\n",
       "      <td>4.477426e+11</td>\n",
       "      <td>NaN</td>\n",
       "      <td>NaN</td>\n",
       "      <td>England</td>\n",
       "      <td>England</td>\n",
       "      <td>c21344658391229.1</td>\n",
       "      <td>NaN</td>\n",
       "      <td>NaN</td>\n",
       "      <td>c21344658391229.1</td>\n",
       "      <td>5</td>\n",
       "      <td>06</td>\n",
       "      <td>2021</td>\n",
       "      <td>2021-06-17 14:01:12</td>\n",
       "      <td>-0500</td>\n",
       "      <td>17</td>\n",
       "      <td>6</td>\n",
       "      <td>2021</td>\n",
       "      <td>True</td>\n",
       "      <td>False</td>\n",
       "      <td>False</td>\n",
       "      <td>False</td>\n",
       "    </tr>\n",
       "    <tr>\n",
       "      <th>3942</th>\n",
       "      <td>1503</td>\n",
       "      <td>cliffordgibbs@hotmail.co.uk</td>\n",
       "      <td>paid</td>\n",
       "      <td>2021-06-17 14:01:14 -0500</td>\n",
       "      <td>fulfilled</td>\n",
       "      <td>2021-06-28 18:03:36 -0500</td>\n",
       "      <td>no</td>\n",
       "      <td>USD</td>\n",
       "      <td>45.0</td>\n",
       "      <td>15.44</td>\n",
       "      <td>0.0</td>\n",
       "      <td>60.44</td>\n",
       "      <td>NaN</td>\n",
       "      <td>0.0</td>\n",
       "      <td>First Class Package International</td>\n",
       "      <td>2021-06-17 14:01:12 -0500</td>\n",
       "      <td>1</td>\n",
       "      <td>Paper Airplanes CD</td>\n",
       "      <td>15.0</td>\n",
       "      <td>NaN</td>\n",
       "      <td>NaN</td>\n",
       "      <td>True</td>\n",
       "      <td>True</td>\n",
       "      <td>fulfilled</td>\n",
       "      <td>Clifford Gibbs</td>\n",
       "      <td>Flat 27 Ashton Court, 46 Western Road</td>\n",
       "      <td>Flat 27 Ashton Court</td>\n",
       "      <td>46 Western Road</td>\n",
       "      <td>NaN</td>\n",
       "      <td>Poole</td>\n",
       "      <td>BH13 6EU</td>\n",
       "      <td>ENG</td>\n",
       "      <td>GB</td>\n",
       "      <td>+447742631070</td>\n",
       "      <td>Clifford Gibbs</td>\n",
       "      <td>Flat 27 Ashton Court, 46 Western Road</td>\n",
       "      <td>Flat 27 Ashton Court</td>\n",
       "      <td>46 Western Road</td>\n",
       "      <td>NaN</td>\n",
       "      <td>Poole</td>\n",
       "      <td>BH13 6EU</td>\n",
       "      <td>ENG</td>\n",
       "      <td>GB</td>\n",
       "      <td>+447742631070</td>\n",
       "      <td>NaN</td>\n",
       "      <td>NaN</td>\n",
       "      <td>NaN</td>\n",
       "      <td>Shopify Payments</td>\n",
       "      <td>c21344658391229.1</td>\n",
       "      <td>0.0</td>\n",
       "      <td>Blue Water Highway</td>\n",
       "      <td>0.0</td>\n",
       "      <td>NaN</td>\n",
       "      <td>NaN</td>\n",
       "      <td>NaN</td>\n",
       "      <td>3.907472e+12</td>\n",
       "      <td>NaN</td>\n",
       "      <td>Low</td>\n",
       "      <td>web</td>\n",
       "      <td>0.0</td>\n",
       "      <td>NaN</td>\n",
       "      <td>NaN</td>\n",
       "      <td>NaN</td>\n",
       "      <td>NaN</td>\n",
       "      <td>NaN</td>\n",
       "      <td>NaN</td>\n",
       "      <td>NaN</td>\n",
       "      <td>NaN</td>\n",
       "      <td>NaN</td>\n",
       "      <td>NaN</td>\n",
       "      <td>4.477426e+11</td>\n",
       "      <td>NaN</td>\n",
       "      <td>NaN</td>\n",
       "      <td>England</td>\n",
       "      <td>England</td>\n",
       "      <td>c21344658391229.1</td>\n",
       "      <td>NaN</td>\n",
       "      <td>NaN</td>\n",
       "      <td>c21344658391229.1</td>\n",
       "      <td>5</td>\n",
       "      <td>06</td>\n",
       "      <td>2021</td>\n",
       "      <td>2021-06-17 14:01:12</td>\n",
       "      <td>-0500</td>\n",
       "      <td>17</td>\n",
       "      <td>6</td>\n",
       "      <td>2021</td>\n",
       "      <td>True</td>\n",
       "      <td>False</td>\n",
       "      <td>False</td>\n",
       "      <td>False</td>\n",
       "    </tr>\n",
       "    <tr>\n",
       "      <th>3943</th>\n",
       "      <td>1503</td>\n",
       "      <td>cliffordgibbs@hotmail.co.uk</td>\n",
       "      <td>paid</td>\n",
       "      <td>2021-06-17 14:01:14 -0500</td>\n",
       "      <td>fulfilled</td>\n",
       "      <td>2021-06-28 18:03:36 -0500</td>\n",
       "      <td>no</td>\n",
       "      <td>USD</td>\n",
       "      <td>45.0</td>\n",
       "      <td>15.44</td>\n",
       "      <td>0.0</td>\n",
       "      <td>60.44</td>\n",
       "      <td>NaN</td>\n",
       "      <td>0.0</td>\n",
       "      <td>First Class Package International</td>\n",
       "      <td>2021-06-17 14:01:12 -0500</td>\n",
       "      <td>1</td>\n",
       "      <td>Heartbreak City Stripped CD</td>\n",
       "      <td>15.0</td>\n",
       "      <td>NaN</td>\n",
       "      <td>BWH-1000</td>\n",
       "      <td>True</td>\n",
       "      <td>True</td>\n",
       "      <td>fulfilled</td>\n",
       "      <td>Clifford Gibbs</td>\n",
       "      <td>Flat 27 Ashton Court, 46 Western Road</td>\n",
       "      <td>Flat 27 Ashton Court</td>\n",
       "      <td>46 Western Road</td>\n",
       "      <td>NaN</td>\n",
       "      <td>Poole</td>\n",
       "      <td>BH13 6EU</td>\n",
       "      <td>ENG</td>\n",
       "      <td>GB</td>\n",
       "      <td>+447742631070</td>\n",
       "      <td>Clifford Gibbs</td>\n",
       "      <td>Flat 27 Ashton Court, 46 Western Road</td>\n",
       "      <td>Flat 27 Ashton Court</td>\n",
       "      <td>46 Western Road</td>\n",
       "      <td>NaN</td>\n",
       "      <td>Poole</td>\n",
       "      <td>BH13 6EU</td>\n",
       "      <td>ENG</td>\n",
       "      <td>GB</td>\n",
       "      <td>+447742631070</td>\n",
       "      <td>NaN</td>\n",
       "      <td>NaN</td>\n",
       "      <td>NaN</td>\n",
       "      <td>Shopify Payments</td>\n",
       "      <td>c21344658391229.1</td>\n",
       "      <td>0.0</td>\n",
       "      <td>Blue Water Highway</td>\n",
       "      <td>0.0</td>\n",
       "      <td>NaN</td>\n",
       "      <td>NaN</td>\n",
       "      <td>NaN</td>\n",
       "      <td>3.907472e+12</td>\n",
       "      <td>NaN</td>\n",
       "      <td>Low</td>\n",
       "      <td>web</td>\n",
       "      <td>0.0</td>\n",
       "      <td>NaN</td>\n",
       "      <td>NaN</td>\n",
       "      <td>NaN</td>\n",
       "      <td>NaN</td>\n",
       "      <td>NaN</td>\n",
       "      <td>NaN</td>\n",
       "      <td>NaN</td>\n",
       "      <td>NaN</td>\n",
       "      <td>NaN</td>\n",
       "      <td>NaN</td>\n",
       "      <td>4.477426e+11</td>\n",
       "      <td>NaN</td>\n",
       "      <td>NaN</td>\n",
       "      <td>England</td>\n",
       "      <td>England</td>\n",
       "      <td>c21344658391229.1</td>\n",
       "      <td>NaN</td>\n",
       "      <td>NaN</td>\n",
       "      <td>c21344658391229.1</td>\n",
       "      <td>5</td>\n",
       "      <td>06</td>\n",
       "      <td>2021</td>\n",
       "      <td>2021-06-17 14:01:12</td>\n",
       "      <td>-0500</td>\n",
       "      <td>17</td>\n",
       "      <td>6</td>\n",
       "      <td>2021</td>\n",
       "      <td>True</td>\n",
       "      <td>False</td>\n",
       "      <td>False</td>\n",
       "      <td>False</td>\n",
       "    </tr>\n",
       "    <tr>\n",
       "      <th>3944</th>\n",
       "      <td>1503</td>\n",
       "      <td>cliffordgibbs@hotmail.co.uk</td>\n",
       "      <td>paid</td>\n",
       "      <td>2021-06-17 14:01:14 -0500</td>\n",
       "      <td>fulfilled</td>\n",
       "      <td>2021-06-28 18:03:36 -0500</td>\n",
       "      <td>no</td>\n",
       "      <td>USD</td>\n",
       "      <td>45.0</td>\n",
       "      <td>15.44</td>\n",
       "      <td>0.0</td>\n",
       "      <td>60.44</td>\n",
       "      <td>NaN</td>\n",
       "      <td>0.0</td>\n",
       "      <td>First Class Package International</td>\n",
       "      <td>2021-06-17 14:01:12 -0500</td>\n",
       "      <td>2</td>\n",
       "      <td>FREE - Heartbreak City CD</td>\n",
       "      <td>0.0</td>\n",
       "      <td>15.0</td>\n",
       "      <td>BWH-1000</td>\n",
       "      <td>True</td>\n",
       "      <td>False</td>\n",
       "      <td>fulfilled</td>\n",
       "      <td>Clifford Gibbs</td>\n",
       "      <td>Flat 27 Ashton Court, 46 Western Road</td>\n",
       "      <td>Flat 27 Ashton Court</td>\n",
       "      <td>46 Western Road</td>\n",
       "      <td>NaN</td>\n",
       "      <td>Poole</td>\n",
       "      <td>BH13 6EU</td>\n",
       "      <td>ENG</td>\n",
       "      <td>GB</td>\n",
       "      <td>+447742631070</td>\n",
       "      <td>Clifford Gibbs</td>\n",
       "      <td>Flat 27 Ashton Court, 46 Western Road</td>\n",
       "      <td>Flat 27 Ashton Court</td>\n",
       "      <td>46 Western Road</td>\n",
       "      <td>NaN</td>\n",
       "      <td>Poole</td>\n",
       "      <td>BH13 6EU</td>\n",
       "      <td>ENG</td>\n",
       "      <td>GB</td>\n",
       "      <td>+447742631070</td>\n",
       "      <td>NaN</td>\n",
       "      <td>NaN</td>\n",
       "      <td>NaN</td>\n",
       "      <td>Shopify Payments</td>\n",
       "      <td>c21344658391229.1</td>\n",
       "      <td>0.0</td>\n",
       "      <td>Blue Water Highway</td>\n",
       "      <td>0.0</td>\n",
       "      <td>NaN</td>\n",
       "      <td>NaN</td>\n",
       "      <td>NaN</td>\n",
       "      <td>3.907472e+12</td>\n",
       "      <td>NaN</td>\n",
       "      <td>Low</td>\n",
       "      <td>web</td>\n",
       "      <td>0.0</td>\n",
       "      <td>NaN</td>\n",
       "      <td>NaN</td>\n",
       "      <td>NaN</td>\n",
       "      <td>NaN</td>\n",
       "      <td>NaN</td>\n",
       "      <td>NaN</td>\n",
       "      <td>NaN</td>\n",
       "      <td>NaN</td>\n",
       "      <td>NaN</td>\n",
       "      <td>NaN</td>\n",
       "      <td>4.477426e+11</td>\n",
       "      <td>NaN</td>\n",
       "      <td>NaN</td>\n",
       "      <td>England</td>\n",
       "      <td>England</td>\n",
       "      <td>c21344658391229.1</td>\n",
       "      <td>NaN</td>\n",
       "      <td>NaN</td>\n",
       "      <td>c21344658391229.1</td>\n",
       "      <td>5</td>\n",
       "      <td>06</td>\n",
       "      <td>2021</td>\n",
       "      <td>2021-06-17 14:01:12</td>\n",
       "      <td>-0500</td>\n",
       "      <td>17</td>\n",
       "      <td>6</td>\n",
       "      <td>2021</td>\n",
       "      <td>True</td>\n",
       "      <td>False</td>\n",
       "      <td>False</td>\n",
       "      <td>False</td>\n",
       "    </tr>\n",
       "  </tbody>\n",
       "</table>\n",
       "</div>"
      ],
      "text/plain": [
       "     OrderID                        Email Financial Status                    Paid at Fulfillment Status               Fulfilled at Accepts Marketing Currency  Subtotal  Shipping  Taxes  Total Discount Code  Discount Amount                    Shipping Method                 Created at  Lineitem quantity                Lineitem name  Lineitem price  Lineitem compare at price Lineitem sku  Lineitem requires shipping  Lineitem taxable Lineitem fulfillment status    Billing Name                         Billing Street      Billing Address1 Billing Address2 Billing Company Billing City Billing Zip Billing Province Billing Country  Billing Phone   Shipping Name                        Shipping Street     Shipping Address1 Shipping Address2 Shipping Company Shipping City Shipping Zip Shipping Province Shipping Country Shipping Phone Notes Note Attributes Cancelled at    Payment Method  Payment Reference  Refunded Amount              Vendor  Outstanding Balance Employee Location  Device ID  \\\n",
       "3941    1503  cliffordgibbs@hotmail.co.uk             paid  2021-06-17 14:01:14 -0500          fulfilled  2021-06-28 18:03:36 -0500                no      USD      45.0     15.44    0.0  60.44           NaN              0.0  First Class Package International  2021-06-17 14:01:12 -0500                  1           Things We Carry CD            15.0                        NaN          NaN                        True              True                   fulfilled  Clifford Gibbs  Flat 27 Ashton Court, 46 Western Road  Flat 27 Ashton Court  46 Western Road             NaN        Poole    BH13 6EU              ENG              GB  +447742631070  Clifford Gibbs  Flat 27 Ashton Court, 46 Western Road  Flat 27 Ashton Court   46 Western Road              NaN         Poole     BH13 6EU               ENG               GB  +447742631070   NaN             NaN          NaN  Shopify Payments  c21344658391229.1              0.0  Blue Water Highway                  0.0      NaN      NaN        NaN   \n",
       "3942    1503  cliffordgibbs@hotmail.co.uk             paid  2021-06-17 14:01:14 -0500          fulfilled  2021-06-28 18:03:36 -0500                no      USD      45.0     15.44    0.0  60.44           NaN              0.0  First Class Package International  2021-06-17 14:01:12 -0500                  1           Paper Airplanes CD            15.0                        NaN          NaN                        True              True                   fulfilled  Clifford Gibbs  Flat 27 Ashton Court, 46 Western Road  Flat 27 Ashton Court  46 Western Road             NaN        Poole    BH13 6EU              ENG              GB  +447742631070  Clifford Gibbs  Flat 27 Ashton Court, 46 Western Road  Flat 27 Ashton Court   46 Western Road              NaN         Poole     BH13 6EU               ENG               GB  +447742631070   NaN             NaN          NaN  Shopify Payments  c21344658391229.1              0.0  Blue Water Highway                  0.0      NaN      NaN        NaN   \n",
       "3943    1503  cliffordgibbs@hotmail.co.uk             paid  2021-06-17 14:01:14 -0500          fulfilled  2021-06-28 18:03:36 -0500                no      USD      45.0     15.44    0.0  60.44           NaN              0.0  First Class Package International  2021-06-17 14:01:12 -0500                  1  Heartbreak City Stripped CD            15.0                        NaN     BWH-1000                        True              True                   fulfilled  Clifford Gibbs  Flat 27 Ashton Court, 46 Western Road  Flat 27 Ashton Court  46 Western Road             NaN        Poole    BH13 6EU              ENG              GB  +447742631070  Clifford Gibbs  Flat 27 Ashton Court, 46 Western Road  Flat 27 Ashton Court   46 Western Road              NaN         Poole     BH13 6EU               ENG               GB  +447742631070   NaN             NaN          NaN  Shopify Payments  c21344658391229.1              0.0  Blue Water Highway                  0.0      NaN      NaN        NaN   \n",
       "3944    1503  cliffordgibbs@hotmail.co.uk             paid  2021-06-17 14:01:14 -0500          fulfilled  2021-06-28 18:03:36 -0500                no      USD      45.0     15.44    0.0  60.44           NaN              0.0  First Class Package International  2021-06-17 14:01:12 -0500                  2    FREE - Heartbreak City CD             0.0                       15.0     BWH-1000                        True             False                   fulfilled  Clifford Gibbs  Flat 27 Ashton Court, 46 Western Road  Flat 27 Ashton Court  46 Western Road             NaN        Poole    BH13 6EU              ENG              GB  +447742631070  Clifford Gibbs  Flat 27 Ashton Court, 46 Western Road  Flat 27 Ashton Court   46 Western Road              NaN         Poole     BH13 6EU               ENG               GB  +447742631070   NaN             NaN          NaN  Shopify Payments  c21344658391229.1              0.0  Blue Water Highway                  0.0      NaN      NaN        NaN   \n",
       "\n",
       "                Id Tags Risk Level Source  Lineitem discount Tax 1 Name  Tax 1 Value Tax 2 Name  Tax 2 Value Tax 3 Name  Tax 3 Value Tax 4 Name  Tax 4 Value Tax 5 Name  Tax 5 Value         Phone Receipt Number  Duties Billing Province Name Shipping Province Name         Payment ID  Payment Terms Name  Next Payment Due At Payment References  Items Month  Year            Datetime     UTC  Daydt  Monthdt  Yeardt  Online  GOPC_Item  Pledge_Item  FreeSH_Item  \n",
       "3941  3.907472e+12  NaN        Low    web                0.0        NaN          NaN        NaN          NaN        NaN          NaN        NaN          NaN        NaN          NaN  4.477426e+11            NaN     NaN               England                England  c21344658391229.1                 NaN                  NaN  c21344658391229.1      5    06  2021 2021-06-17 14:01:12   -0500     17        6    2021    True      False        False        False  \n",
       "3942  3.907472e+12  NaN        Low    web                0.0        NaN          NaN        NaN          NaN        NaN          NaN        NaN          NaN        NaN          NaN  4.477426e+11            NaN     NaN               England                England  c21344658391229.1                 NaN                  NaN  c21344658391229.1      5    06  2021 2021-06-17 14:01:12   -0500     17        6    2021    True      False        False        False  \n",
       "3943  3.907472e+12  NaN        Low    web                0.0        NaN          NaN        NaN          NaN        NaN          NaN        NaN          NaN        NaN          NaN  4.477426e+11            NaN     NaN               England                England  c21344658391229.1                 NaN                  NaN  c21344658391229.1      5    06  2021 2021-06-17 14:01:12   -0500     17        6    2021    True      False        False        False  \n",
       "3944  3.907472e+12  NaN        Low    web                0.0        NaN          NaN        NaN          NaN        NaN          NaN        NaN          NaN        NaN          NaN  4.477426e+11            NaN     NaN               England                England  c21344658391229.1                 NaN                  NaN  c21344658391229.1      5    06  2021 2021-06-17 14:01:12   -0500     17        6    2021    True      False        False        False  "
      ]
     },
     "execution_count": 14,
     "metadata": {},
     "output_type": "execute_result"
    }
   ],
   "source": [
    "df_raw[df_raw['OrderID']=='1503']"
   ]
  },
  {
   "cell_type": "markdown",
   "id": "43933b23-801a-4a7a-8d37-e1a2ff07b805",
   "metadata": {},
   "source": [
    "# Defining our Working Dataframe\n",
    "Here we will define the df_core."
   ]
  },
  {
   "cell_type": "markdown",
   "id": "2071a910-e6a2-4dcb-84f9-01857a59a2da",
   "metadata": {},
   "source": [
    "Here we will take the opportunity to rename all columns and move them in the position that works for our needs."
   ]
  },
  {
   "cell_type": "code",
   "execution_count": 15,
   "id": "840a2858-b36b-4161-86ac-2c7b36c62fa9",
   "metadata": {
    "tags": []
   },
   "outputs": [],
   "source": [
    "df_core = df_raw[['OrderID', 'Monthdt', 'Yeardt', 'Datetime', 'Billing Name', 'Billing City', 'Billing Province',\n",
    "                  'Billing Country', 'Lineitem name','Lineitem price', 'Lineitem quantity', 'Subtotal', 'Items', 'Online', 'FreeSH_Item', 'GOPC_Item']]\n",
    "df_core.columns = ['OrderID', 'Month', 'Year', 'Date', 'Name', 'City', 'State',\n",
    "                   'Country', 'Lineitem', 'Lineitem Price', 'Lineitem Quantity', 'Order_Subtotal', 'Total_Order_Items', 'Online', 'FreeSH_Item', 'GOPC_Item']"
   ]
  },
  {
   "cell_type": "markdown",
   "id": "694079e0-c317-4067-bf0e-987871b3c69e",
   "metadata": {},
   "source": [
    "# Testing"
   ]
  },
  {
   "cell_type": "code",
   "execution_count": 16,
   "id": "33bb8ea8-caac-442b-ba48-dc1a2da2c1a1",
   "metadata": {
    "tags": []
   },
   "outputs": [],
   "source": [
    "# df_core['Date'] = pd.to_datetime(df_core['Date'], format='%Y-%m-%d %H:%M:%S %z')\n",
    "# df_core['Formatted_Date'] = df_core['Date'].dt.strftime('%Y-%m-%d %H:%M:%S')\n",
    "# df_core['Date'].dt.strftime('%Y-%m-%d %H:%M:%S')\n",
    "# df_core['my_timestamp_column'].dt.strftime('%Y-%m-%d %H:%M:%S')\n",
    "# df_core['Date'].dt.strftime('%Y-%m-%d %H:%M:%S')"
   ]
  },
  {
   "cell_type": "markdown",
   "id": "58be9fbe-ad5e-4f04-ad17-b260b6f6e726",
   "metadata": {},
   "source": [
    "# Insights"
   ]
  },
  {
   "cell_type": "markdown",
   "id": "6df02602-932f-4216-8273-d93d190a86e0",
   "metadata": {},
   "source": [
    "## Questions"
   ]
  },
  {
   "cell_type": "markdown",
   "id": "e6843329-cb88-478a-a813-d7bc51a48c0f",
   "metadata": {},
   "source": [
    "### 1. How many people took part in the Free Shipping and Handling Offer?"
   ]
  },
  {
   "cell_type": "code",
   "execution_count": 20,
   "id": "2b8130e2-b9c6-4afd-a1f8-9df3d604645b",
   "metadata": {
    "tags": []
   },
   "outputs": [
    {
     "data": {
      "text/html": [
       "<div>\n",
       "<style scoped>\n",
       "    .dataframe tbody tr th:only-of-type {\n",
       "        vertical-align: middle;\n",
       "    }\n",
       "\n",
       "    .dataframe tbody tr th {\n",
       "        vertical-align: top;\n",
       "    }\n",
       "\n",
       "    .dataframe thead th {\n",
       "        text-align: right;\n",
       "    }\n",
       "</style>\n",
       "<table border=\"1\" class=\"dataframe\">\n",
       "  <thead>\n",
       "    <tr style=\"text-align: right;\">\n",
       "      <th></th>\n",
       "      <th>OrderID</th>\n",
       "      <th>Month</th>\n",
       "      <th>Monthdt</th>\n",
       "      <th>Year</th>\n",
       "      <th>Yeardt</th>\n",
       "      <th>Date</th>\n",
       "      <th>Name</th>\n",
       "      <th>City</th>\n",
       "      <th>State</th>\n",
       "      <th>Country</th>\n",
       "      <th>Lineitem</th>\n",
       "      <th>Lineitem Price</th>\n",
       "      <th>Lineitem Quantity</th>\n",
       "      <th>Order_Subtotal</th>\n",
       "      <th>Total_Order_Items</th>\n",
       "      <th>Online</th>\n",
       "      <th>FreeSH_Item</th>\n",
       "      <th>GOPC_Item</th>\n",
       "    </tr>\n",
       "  </thead>\n",
       "  <tbody>\n",
       "    <tr>\n",
       "      <th>2899</th>\n",
       "      <td>2236</td>\n",
       "      <td>03</td>\n",
       "      <td>3</td>\n",
       "      <td>2022</td>\n",
       "      <td>2022</td>\n",
       "      <td>2022-03-03 06:08:22</td>\n",
       "      <td>Jennifer Armstrong</td>\n",
       "      <td>Massillon</td>\n",
       "      <td>OH</td>\n",
       "      <td>US</td>\n",
       "      <td>FREE - Paper Airplanes CD</td>\n",
       "      <td>0.0</td>\n",
       "      <td>1</td>\n",
       "      <td>0.0</td>\n",
       "      <td>1</td>\n",
       "      <td>True</td>\n",
       "      <td>True</td>\n",
       "      <td>False</td>\n",
       "    </tr>\n",
       "    <tr>\n",
       "      <th>2898</th>\n",
       "      <td>2237</td>\n",
       "      <td>03</td>\n",
       "      <td>3</td>\n",
       "      <td>2022</td>\n",
       "      <td>2022</td>\n",
       "      <td>2022-03-03 15:01:22</td>\n",
       "      <td>John Moore</td>\n",
       "      <td>Borger</td>\n",
       "      <td>TX</td>\n",
       "      <td>US</td>\n",
       "      <td>FREE - Paper Airplanes CD</td>\n",
       "      <td>0.0</td>\n",
       "      <td>1</td>\n",
       "      <td>0.0</td>\n",
       "      <td>1</td>\n",
       "      <td>True</td>\n",
       "      <td>True</td>\n",
       "      <td>False</td>\n",
       "    </tr>\n",
       "    <tr>\n",
       "      <th>2897</th>\n",
       "      <td>2238</td>\n",
       "      <td>03</td>\n",
       "      <td>3</td>\n",
       "      <td>2022</td>\n",
       "      <td>2022</td>\n",
       "      <td>2022-03-03 19:01:40</td>\n",
       "      <td>Debbie Dearth</td>\n",
       "      <td>KANSAS CITY</td>\n",
       "      <td>KS</td>\n",
       "      <td>US</td>\n",
       "      <td>FREE - Paper Airplanes CD</td>\n",
       "      <td>0.0</td>\n",
       "      <td>1</td>\n",
       "      <td>0.0</td>\n",
       "      <td>1</td>\n",
       "      <td>True</td>\n",
       "      <td>True</td>\n",
       "      <td>False</td>\n",
       "    </tr>\n",
       "    <tr>\n",
       "      <th>2896</th>\n",
       "      <td>2239</td>\n",
       "      <td>03</td>\n",
       "      <td>3</td>\n",
       "      <td>2022</td>\n",
       "      <td>2022</td>\n",
       "      <td>2022-03-05 19:15:16</td>\n",
       "      <td>Lisa Gomez</td>\n",
       "      <td>Davenport</td>\n",
       "      <td>IA</td>\n",
       "      <td>US</td>\n",
       "      <td>FREE - Paper Airplanes CD</td>\n",
       "      <td>0.0</td>\n",
       "      <td>1</td>\n",
       "      <td>15.0</td>\n",
       "      <td>2</td>\n",
       "      <td>True</td>\n",
       "      <td>True</td>\n",
       "      <td>False</td>\n",
       "    </tr>\n",
       "    <tr>\n",
       "      <th>2894</th>\n",
       "      <td>2240</td>\n",
       "      <td>03</td>\n",
       "      <td>3</td>\n",
       "      <td>2022</td>\n",
       "      <td>2022</td>\n",
       "      <td>2022-03-06 12:37:15</td>\n",
       "      <td>Kirsteen Williams</td>\n",
       "      <td>Foxton</td>\n",
       "      <td>ENG</td>\n",
       "      <td>GB</td>\n",
       "      <td>FREE - Paper Airplanes CD</td>\n",
       "      <td>0.0</td>\n",
       "      <td>1</td>\n",
       "      <td>15.0</td>\n",
       "      <td>2</td>\n",
       "      <td>True</td>\n",
       "      <td>True</td>\n",
       "      <td>False</td>\n",
       "    </tr>\n",
       "    <tr>\n",
       "      <th>...</th>\n",
       "      <td>...</td>\n",
       "      <td>...</td>\n",
       "      <td>...</td>\n",
       "      <td>...</td>\n",
       "      <td>...</td>\n",
       "      <td>...</td>\n",
       "      <td>...</td>\n",
       "      <td>...</td>\n",
       "      <td>...</td>\n",
       "      <td>...</td>\n",
       "      <td>...</td>\n",
       "      <td>...</td>\n",
       "      <td>...</td>\n",
       "      <td>...</td>\n",
       "      <td>...</td>\n",
       "      <td>...</td>\n",
       "      <td>...</td>\n",
       "      <td>...</td>\n",
       "    </tr>\n",
       "    <tr>\n",
       "      <th>341</th>\n",
       "      <td>4075</td>\n",
       "      <td>12</td>\n",
       "      <td>12</td>\n",
       "      <td>2022</td>\n",
       "      <td>2022</td>\n",
       "      <td>2022-12-04 04:02:51</td>\n",
       "      <td>Jason Laymon</td>\n",
       "      <td>Mount Vernon</td>\n",
       "      <td>OH</td>\n",
       "      <td>US</td>\n",
       "      <td>FREE - Heartbreak City CD</td>\n",
       "      <td>0.0</td>\n",
       "      <td>1</td>\n",
       "      <td>0.0</td>\n",
       "      <td>1</td>\n",
       "      <td>True</td>\n",
       "      <td>True</td>\n",
       "      <td>False</td>\n",
       "    </tr>\n",
       "    <tr>\n",
       "      <th>320</th>\n",
       "      <td>4094</td>\n",
       "      <td>12</td>\n",
       "      <td>12</td>\n",
       "      <td>2022</td>\n",
       "      <td>2022</td>\n",
       "      <td>2022-12-05 19:34:40</td>\n",
       "      <td>glenn jacobs</td>\n",
       "      <td>Greenville</td>\n",
       "      <td>SC</td>\n",
       "      <td>US</td>\n",
       "      <td>FREE - Heartbreak City CD</td>\n",
       "      <td>0.0</td>\n",
       "      <td>1</td>\n",
       "      <td>30.0</td>\n",
       "      <td>3</td>\n",
       "      <td>True</td>\n",
       "      <td>True</td>\n",
       "      <td>False</td>\n",
       "    </tr>\n",
       "    <tr>\n",
       "      <th>70</th>\n",
       "      <td>4272</td>\n",
       "      <td>01</td>\n",
       "      <td>1</td>\n",
       "      <td>2023</td>\n",
       "      <td>2023</td>\n",
       "      <td>2023-01-03 15:36:09</td>\n",
       "      <td>Paul Cook</td>\n",
       "      <td>Hayesville</td>\n",
       "      <td>NC</td>\n",
       "      <td>US</td>\n",
       "      <td>FREE - Heartbreak City CD</td>\n",
       "      <td>0.0</td>\n",
       "      <td>1</td>\n",
       "      <td>15.0</td>\n",
       "      <td>2</td>\n",
       "      <td>True</td>\n",
       "      <td>True</td>\n",
       "      <td>False</td>\n",
       "    </tr>\n",
       "    <tr>\n",
       "      <th>45</th>\n",
       "      <td>4290</td>\n",
       "      <td>01</td>\n",
       "      <td>1</td>\n",
       "      <td>2023</td>\n",
       "      <td>2023</td>\n",
       "      <td>2023-01-06 13:53:57</td>\n",
       "      <td>Norman Lazarus</td>\n",
       "      <td>Elkridge</td>\n",
       "      <td>MD</td>\n",
       "      <td>US</td>\n",
       "      <td>FREE - Heartbreak City CD</td>\n",
       "      <td>0.0</td>\n",
       "      <td>1</td>\n",
       "      <td>0.0</td>\n",
       "      <td>1</td>\n",
       "      <td>True</td>\n",
       "      <td>True</td>\n",
       "      <td>False</td>\n",
       "    </tr>\n",
       "    <tr>\n",
       "      <th>38</th>\n",
       "      <td>4296</td>\n",
       "      <td>01</td>\n",
       "      <td>1</td>\n",
       "      <td>2023</td>\n",
       "      <td>2023</td>\n",
       "      <td>2023-01-06 22:05:17</td>\n",
       "      <td>Blair Trumpour</td>\n",
       "      <td>Oshawa</td>\n",
       "      <td>ON</td>\n",
       "      <td>CA</td>\n",
       "      <td>FREE - Heartbreak City CD</td>\n",
       "      <td>0.0</td>\n",
       "      <td>1</td>\n",
       "      <td>15.0</td>\n",
       "      <td>2</td>\n",
       "      <td>True</td>\n",
       "      <td>True</td>\n",
       "      <td>False</td>\n",
       "    </tr>\n",
       "  </tbody>\n",
       "</table>\n",
       "<p>1136 rows × 18 columns</p>\n",
       "</div>"
      ],
      "text/plain": [
       "     OrderID Month  Monthdt  Year  Yeardt                Date                Name          City State Country                   Lineitem  Lineitem Price  Lineitem Quantity  Order_Subtotal  Total_Order_Items  Online  FreeSH_Item  GOPC_Item\n",
       "2899    2236    03        3  2022    2022 2022-03-03 06:08:22  Jennifer Armstrong     Massillon    OH      US  FREE - Paper Airplanes CD             0.0                  1             0.0                  1    True         True      False\n",
       "2898    2237    03        3  2022    2022 2022-03-03 15:01:22          John Moore        Borger    TX      US  FREE - Paper Airplanes CD             0.0                  1             0.0                  1    True         True      False\n",
       "2897    2238    03        3  2022    2022 2022-03-03 19:01:40       Debbie Dearth   KANSAS CITY    KS      US  FREE - Paper Airplanes CD             0.0                  1             0.0                  1    True         True      False\n",
       "2896    2239    03        3  2022    2022 2022-03-05 19:15:16          Lisa Gomez     Davenport    IA      US  FREE - Paper Airplanes CD             0.0                  1            15.0                  2    True         True      False\n",
       "2894    2240    03        3  2022    2022 2022-03-06 12:37:15   Kirsteen Williams       Foxton    ENG      GB  FREE - Paper Airplanes CD             0.0                  1            15.0                  2    True         True      False\n",
       "...      ...   ...      ...   ...     ...                 ...                 ...           ...   ...     ...                        ...             ...                ...             ...                ...     ...          ...        ...\n",
       "341     4075    12       12  2022    2022 2022-12-04 04:02:51        Jason Laymon  Mount Vernon    OH      US  FREE - Heartbreak City CD             0.0                  1             0.0                  1    True         True      False\n",
       "320     4094    12       12  2022    2022 2022-12-05 19:34:40        glenn jacobs    Greenville    SC      US  FREE - Heartbreak City CD             0.0                  1            30.0                  3    True         True      False\n",
       "70      4272    01        1  2023    2023 2023-01-03 15:36:09           Paul Cook    Hayesville    NC      US  FREE - Heartbreak City CD             0.0                  1            15.0                  2    True         True      False\n",
       "45      4290    01        1  2023    2023 2023-01-06 13:53:57      Norman Lazarus      Elkridge    MD      US  FREE - Heartbreak City CD             0.0                  1             0.0                  1    True         True      False\n",
       "38      4296    01        1  2023    2023 2023-01-06 22:05:17      Blair Trumpour        Oshawa    ON      CA  FREE - Heartbreak City CD             0.0                  1            15.0                  2    True         True      False\n",
       "\n",
       "[1136 rows x 18 columns]"
      ]
     },
     "execution_count": 20,
     "metadata": {},
     "output_type": "execute_result"
    }
   ],
   "source": [
    "freeSH_orders = df_core[df_core['FreeSH_Item'] == True]\n",
    "# len(freeSH_orders['Name'].unique())\n",
    "freeSH_orders.sort_values(by='Date')"
   ]
  },
  {
   "cell_type": "markdown",
   "id": "535c4f95-9875-40b5-992d-35ad7c319c90",
   "metadata": {},
   "source": [
    "### 2. How many bought free Cd and the upsell offer?"
   ]
  },
  {
   "cell_type": "code",
   "execution_count": 18,
   "id": "3ba1a02b-e287-4c55-b7e4-f286999bb860",
   "metadata": {
    "tags": []
   },
   "outputs": [
    {
     "data": {
      "text/plain": [
       "361"
      ]
     },
     "execution_count": 18,
     "metadata": {},
     "output_type": "execute_result"
    }
   ],
   "source": [
    "freeSH_orders[freeSH_orders['Total_Order_Items']>1]['OrderID'].count()"
   ]
  },
  {
   "cell_type": "markdown",
   "id": "02ecd7b4-a963-43b1-a88d-509992300862",
   "metadata": {},
   "source": [
    "### 3. What City/state do our customers reside in?"
   ]
  },
  {
   "cell_type": "markdown",
   "id": "5f7b5c92-65fd-4825-8f72-a3227865e549",
   "metadata": {},
   "source": [
    "### 4. Cities/states with largest amount purchased? This is obviously Texas, but what are the top 5 or 10 other states/markets?"
   ]
  },
  {
   "cell_type": "markdown",
   "id": "3fbc3f12-378e-4e8b-a175-65d3c107a30b",
   "metadata": {},
   "source": [
    "### 5. How many people bought free CD and came back for another purchase at a later date?"
   ]
  },
  {
   "cell_type": "code",
   "execution_count": 16,
   "id": "8abcb1a6-ac6e-411c-9261-2ecf00b00eb5",
   "metadata": {
    "tags": []
   },
   "outputs": [
    {
     "data": {
      "text/plain": [
       "1414"
      ]
     },
     "execution_count": 16,
     "metadata": {},
     "output_type": "execute_result"
    }
   ],
   "source": [
    "len(df_core[df_core['FreeSH_Item'] == True]['OrderID'].unique())"
   ]
  }
 ],
 "metadata": {
  "kernelspec": {
   "display_name": "Python 3 (ipykernel)",
   "language": "python",
   "name": "python3"
  },
  "language_info": {
   "codemirror_mode": {
    "name": "ipython",
    "version": 3
   },
   "file_extension": ".py",
   "mimetype": "text/x-python",
   "name": "python",
   "nbconvert_exporter": "python",
   "pygments_lexer": "ipython3",
   "version": "3.10.10"
  },
  "toc-showmarkdowntxt": false
 },
 "nbformat": 4,
 "nbformat_minor": 5
}
